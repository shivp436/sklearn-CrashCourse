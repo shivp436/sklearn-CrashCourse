{
 "cells": [
  {
   "cell_type": "markdown",
   "id": "virtual-spirituality",
   "metadata": {},
   "source": [
    "Make sure you use the right version number."
   ]
  },
  {
   "cell_type": "code",
   "execution_count": null,
   "id": "agricultural-income",
   "metadata": {},
   "outputs": [],
   "source": [
    "# %pip install --upgrade scikit-learn==0.23.0"
   ]
  },
  {
   "cell_type": "markdown",
   "id": "hawaiian-overall",
   "metadata": {},
   "source": [
    "Once installed, we can load the data."
   ]
  },
  {
   "cell_type": "code",
   "execution_count": 17,
   "id": "greatest-toilet",
   "metadata": {},
   "outputs": [],
   "source": [
    "from sklearn.datasets import load_breast_cancer\n",
    "X, y = load_breast_cancer(return_X_y=True)"
   ]
  },
  {
   "cell_type": "markdown",
   "id": "cutting-marathon",
   "metadata": {},
   "source": [
    "Next, we can apply models! "
   ]
  },
  {
   "cell_type": "code",
   "execution_count": 18,
   "id": "vulnerable-adoption",
   "metadata": {},
   "outputs": [
    {
     "data": {
      "text/plain": [
       "array([-4.55748245e-02,  1.57869645e-01, -1.31319863e-01, -1.92288185e-01,\n",
       "        1.65553403e-01,  3.01137442e-01,  1.50292603e-01,  3.68008882e-01,\n",
       "        3.01789947e-01, -1.54652777e-01,  4.52284915e-01,  1.41528218e-01,\n",
       "        3.58799952e-01,  5.42350255e-01,  3.74158760e-01,  6.59600231e-03,\n",
       "        2.00106593e-01, -1.59903421e-02, -6.86648217e-02,  6.72592533e-01,\n",
       "        1.02825052e+00,  1.12677621e+00,  2.64794750e-01,  1.48388507e-02,\n",
       "       -1.56499389e-01, -1.81494969e-01,  7.15639403e-02,  1.05751382e-01,\n",
       "        4.69024100e-03,  4.64984176e-01, -6.42440721e-02,  8.49150658e-02,\n",
       "       -1.09544105e-01,  4.72282004e-03,  8.30995041e-02,  1.06438245e-01,\n",
       "        4.10004938e-01,  1.00702985e+00,  7.26754362e-01,  4.37172612e-01,\n",
       "        6.74438947e-01,  5.68674205e-01, -2.03827234e-01,  3.31302150e-01,\n",
       "        3.41861785e-01, -7.01785970e-02,  1.29121705e+00,  1.86405824e-01,\n",
       "        8.88890773e-01,  6.88486808e-01,  9.57028129e-01,  9.28752105e-01,\n",
       "        9.27637316e-01,  3.31911333e-01,  4.43012282e-01,  8.26249735e-01,\n",
       "       -7.79676100e-03,  2.26257395e-01,  9.56849666e-01,  1.15633877e+00,\n",
       "        1.10695565e+00,  1.15247701e+00,  1.31153122e-01,  1.10223258e+00,\n",
       "        1.17180183e-01,  3.35799807e-01,  9.81547742e-01,  8.99716763e-01,\n",
       "        8.66577157e-01,  9.37842567e-01,  1.28174354e-01,  1.25056964e+00,\n",
       "       -1.21806742e-01,  6.06225540e-01,  8.75687056e-01,  1.85995074e-01,\n",
       "        8.62150281e-01,  2.22113385e-01, -1.92589584e-01,  9.32668165e-01,\n",
       "        8.02476476e-01,  3.97588732e-01, -3.36491612e-01,  2.02002982e-01,\n",
       "        8.15384178e-01, -4.44434206e-02,  5.05411257e-01, -2.85456559e-01,\n",
       "        6.56987469e-01,  6.63827178e-01,  7.73198492e-01,  4.97307026e-01,\n",
       "        7.26939476e-01,  8.48471232e-01,  2.44394940e-01, -1.75354297e-04,\n",
       "        9.70957051e-01,  1.02444290e+00,  8.99174847e-01,  4.79604325e-01,\n",
       "        4.03620687e-01,  1.42299516e+00,  8.43600154e-01,  1.00940557e+00,\n",
       "        1.13516785e+00,  1.71121358e-01,  6.88503367e-01,  9.88496693e-01,\n",
       "       -4.75793464e-01,  6.87310257e-01,  9.52651350e-01,  7.15977232e-01,\n",
       "        8.47070052e-01,  1.12744269e+00,  1.08407484e+00,  8.38495673e-01,\n",
       "        1.38936546e+00,  1.33711346e-01, -1.39992639e-01,  2.15624114e-01,\n",
       "        9.43375524e-01,  1.14643165e-01, -1.56159314e-01,  8.03122611e-01,\n",
       "        9.44080629e-01,  9.40882485e-01,  3.93177304e-01,  3.43417460e-01,\n",
       "        7.30250481e-01,  3.70678249e-02,  9.47302903e-01,  2.56776538e-01,\n",
       "        4.10449339e-01,  6.24450269e-01,  1.47606629e-01,  6.10443985e-01,\n",
       "        9.15274809e-01,  1.05427778e+00, -4.78720883e-02,  1.07645164e+00,\n",
       "        1.26955644e+00,  3.64748105e-01,  1.01774505e+00,  8.21827523e-01,\n",
       "        1.17474226e+00,  9.92944965e-01,  3.82226136e-01,  7.60050189e-01,\n",
       "        6.92648933e-01,  9.61058352e-01,  8.27986017e-01,  8.76895369e-01,\n",
       "        1.05751666e+00,  1.03681921e+00,  5.94676555e-01,  8.32115993e-01,\n",
       "        2.76012517e-01,  7.53083919e-01,  1.00574780e+00,  1.05233345e+00,\n",
       "        8.55460110e-01,  1.70221269e-01, -2.09416938e-01,  7.95904582e-01,\n",
       "       -7.64138127e-02,  8.98563149e-01,  1.19748580e+00,  3.22067716e-01,\n",
       "       -7.75624542e-02,  8.78804118e-01,  8.94165583e-01,  3.53148589e-01,\n",
       "        2.24633308e-01,  1.02180524e+00,  1.18645327e+00,  1.34233033e+00,\n",
       "        9.51074249e-01,  3.12168305e-01,  1.03289683e+00,  1.01140857e+00,\n",
       "       -2.71499652e-01, -2.15357874e-01,  2.58069307e-01,  1.12507327e+00,\n",
       "        5.53220646e-01,  9.04560518e-01,  4.01501123e-01,  8.71380127e-01,\n",
       "        9.76707162e-01,  1.10765225e+00,  4.41524675e-01,  8.40461857e-01,\n",
       "        1.40077105e+00,  2.09757232e-01,  6.24941163e-01,  9.11507784e-01,\n",
       "        9.87985315e-02,  5.89592193e-01,  2.24017817e-01,  1.58726956e-01,\n",
       "        6.43836899e-01,  2.81523359e-01, -2.61772584e-01, -1.20838300e-01,\n",
       "        6.21251996e-01,  4.73814466e-01,  1.12982012e+00,  4.04762039e-01,\n",
       "        6.51173189e-01,  7.15644250e-01,  1.25836715e-01,  9.78104000e-01,\n",
       "       -6.23988698e-02,  3.12094215e-01,  2.77013249e-02,  5.46840629e-01,\n",
       "        8.28113057e-01,  1.10976735e+00, -2.06327517e-02, -4.10085748e-03,\n",
       "        9.24689159e-01,  8.89215939e-01,  1.05919344e+00,  6.26209935e-02,\n",
       "        7.40982885e-01,  6.42402407e-01,  1.18516283e+00,  8.11338296e-01,\n",
       "        6.22387094e-01,  3.27083185e-01,  1.59697073e-01,  1.05703930e+00,\n",
       "        8.61109801e-01,  7.61619647e-02,  9.51355441e-01,  7.82356972e-01,\n",
       "       -1.72462373e-01,  1.97833137e-01,  6.29926793e-01, -2.44261396e-01,\n",
       "        8.14556807e-01,  1.08630582e+00,  6.88424472e-01,  8.76338271e-01,\n",
       "        1.31726579e-01,  6.80043277e-01,  8.98053350e-01,  7.60185307e-01,\n",
       "        8.05176144e-01,  9.50520335e-01, -9.43032307e-02,  9.14000702e-01,\n",
       "       -3.36502542e-01,  2.75484609e-01, -6.26636240e-02,  5.82910864e-01,\n",
       "        6.09658242e-03,  1.21990104e-01, -7.75026673e-03, -1.03064588e-01,\n",
       "        1.32948079e-03,  5.61264044e-01,  3.11047236e-01,  6.31172513e-01,\n",
       "        1.45880451e-01,  5.60575781e-02,  9.85164180e-01,  9.23152677e-01,\n",
       "        8.92715230e-01,  1.11301435e+00,  1.04759298e+00,  1.03278135e+00,\n",
       "        3.39911932e-03,  9.40696048e-01,  2.95659429e-01,  6.64023732e-01,\n",
       "        1.10829900e+00,  4.24967089e-01,  8.77177485e-01,  8.34785976e-01,\n",
       "       -1.80623849e-01,  6.87782460e-01, -5.14386144e-02,  3.64263164e-01,\n",
       "        1.00282771e+00,  1.06027830e+00,  8.55712661e-01,  1.09234708e+00,\n",
       "        7.95388756e-01,  8.85028344e-01,  8.35638704e-01,  6.27654998e-01,\n",
       "        7.06401001e-01,  8.37961794e-01,  1.15277245e+00,  1.02594846e+00,\n",
       "        1.30128290e+00,  8.22949350e-01,  8.00342754e-01,  1.09391552e+00,\n",
       "       -1.94288231e-01,  9.74634343e-01, -7.60150202e-02,  1.12189616e+00,\n",
       "        1.07381776e+00,  9.51635483e-01,  1.03802798e+00,  1.21738183e+00,\n",
       "        1.10743721e+00,  1.00961680e+00,  9.48135055e-01,  8.19698926e-01,\n",
       "        9.37847772e-01,  1.20781035e+00,  1.09170369e+00,  1.15425554e+00,\n",
       "        1.16900950e+00,  2.55926949e-01,  1.05843730e+00,  1.02572390e+00,\n",
       "        9.32032033e-01,  2.95913645e-01,  9.04246815e-01, -4.16557861e-01,\n",
       "        9.74317768e-01,  1.01375959e+00,  9.01096837e-01,  1.08823657e+00,\n",
       "        2.25229291e-01,  3.66721217e-01,  3.55218357e-01,  8.30426949e-01,\n",
       "        9.61554649e-01,  1.06364100e+00,  9.13753331e-01,  2.55523344e-02,\n",
       "        1.11323878e+00, -2.55571951e-03,  1.04544116e+00, -2.00633616e-01,\n",
       "        6.49637752e-01,  1.02408302e+00,  9.50542012e-01, -1.35394975e-01,\n",
       "        8.37909930e-01,  1.02535613e+00,  8.75249083e-01,  5.90237813e-01,\n",
       "        8.90537316e-01,  1.19288646e+00,  9.30817344e-01,  1.83445852e-01,\n",
       "       -2.80955576e-01,  2.77186628e-02,  1.13440728e+00,  9.05022024e-01,\n",
       "        7.65093958e-01,  8.83682395e-01,  1.11292925e+00,  8.93551398e-01,\n",
       "        1.03273364e+00,  9.12966006e-01,  9.46581425e-01,  6.36531836e-01,\n",
       "        9.26336445e-01,  2.21381264e-01, -2.03127023e-01,  7.80305728e-01,\n",
       "        3.13569039e-01, -1.22134368e-01, -4.39821644e-02,  9.37810130e-01,\n",
       "        2.28191858e-01,  3.54051939e-02,  8.88871176e-01,  8.12469075e-01,\n",
       "        1.07513751e+00,  8.23644238e-01,  8.06818760e-01,  3.30012965e-01,\n",
       "        7.52853516e-01,  1.07946948e+00,  9.92536705e-01,  8.77259586e-01,\n",
       "        1.01835771e+00,  4.43675811e-01,  9.66139686e-01,  9.75284262e-01,\n",
       "        1.10634807e+00,  5.32912378e-02,  1.17006014e+00,  1.11683768e+00,\n",
       "       -8.67343387e-02, -2.34930184e-01,  9.04431454e-01,  8.72704737e-01,\n",
       "        7.41600277e-01,  1.01700470e+00,  9.84791906e-01,  9.19826813e-01,\n",
       "       -2.62259195e-05,  9.25528921e-01,  9.96757020e-01,  9.99839296e-01,\n",
       "        9.91634348e-01,  8.49480114e-01,  7.20925959e-01,  8.66517350e-01,\n",
       "        1.80926395e-01,  7.31615957e-01,  7.64268008e-01,  9.75776534e-01,\n",
       "        1.25261039e+00,  5.52500714e-01,  4.32462608e-01,  8.53769537e-01,\n",
       "        8.04384346e-01, -1.21733092e-01,  8.80380171e-01,  9.60108149e-01,\n",
       "        9.04118299e-01,  7.30424534e-01,  9.85008517e-01,  7.24621223e-01,\n",
       "        8.55323779e-01,  1.08892242e+00,  9.54568571e-01,  7.77039949e-01,\n",
       "        1.14602499e+00,  9.90942208e-01,  3.03292505e-01,  1.10315140e+00,\n",
       "       -8.40665804e-04,  6.58021651e-02,  7.81776956e-01,  2.59937387e-01,\n",
       "        8.34696924e-01,  7.19231344e-01,  8.08251197e-01,  9.61705309e-01,\n",
       "        8.25133296e-01,  1.65189452e-01,  1.03533000e+00,  1.12791874e+00,\n",
       "        5.18904342e-01,  7.21846700e-01, -1.00436045e-02,  7.80339390e-01,\n",
       "        6.82221076e-01, -2.69666528e-02,  9.71939816e-01,  1.29269189e-01,\n",
       "        7.99871948e-01,  7.25226700e-01,  8.09900844e-01,  6.50698860e-01,\n",
       "        7.22579507e-01,  8.05472055e-01,  8.56863929e-01,  1.04635102e+00,\n",
       "       -3.55000591e-02, -4.59952332e-03,  8.15771351e-01,  8.81450394e-01,\n",
       "        7.82580699e-01,  6.41536917e-01,  6.94648953e-01,  9.77021652e-01,\n",
       "        2.55950015e-02,  6.50178432e-01,  9.44048922e-01,  7.41410930e-01,\n",
       "        7.31006419e-01,  8.65499090e-01,  1.08905756e+00,  8.86738908e-01,\n",
       "        7.48126129e-01,  9.49092523e-01,  1.03633619e+00,  4.33682676e-01,\n",
       "        1.01857012e+00,  7.13014836e-01,  8.22066969e-01,  9.08264319e-01,\n",
       "        7.11560575e-01,  8.29015850e-01,  7.82191967e-01, -1.47262148e-01,\n",
       "        8.30265279e-01,  4.84641907e-01,  7.61997761e-01,  7.39811313e-01,\n",
       "        2.35848403e-01,  1.00990589e+00,  8.29731150e-01,  7.19707739e-01,\n",
       "        7.09966644e-01,  8.77343995e-01,  1.19316069e-01,  1.57028173e-02,\n",
       "        8.31098230e-01,  2.49343177e-01,  8.62119914e-01, -1.57285214e-01,\n",
       "        1.16715183e+00,  9.69460252e-01,  9.46383133e-01,  8.52302394e-01,\n",
       "        6.46705375e-01,  2.18009697e-01,  9.61639692e-01,  8.88353299e-01,\n",
       "        2.43092773e-01,  7.44344762e-01,  6.27986514e-01,  9.30151875e-01,\n",
       "        1.60410834e-01,  1.06940678e-01,  9.05557129e-01,  8.56475416e-01,\n",
       "        9.36583703e-01, -1.10291957e-01,  1.13416498e+00,  7.09479877e-01,\n",
       "        1.04414557e+00,  1.15512953e+00,  7.55972800e-01,  9.39462305e-01,\n",
       "        6.95315846e-01,  9.72946029e-01,  7.84619146e-01,  8.46197223e-01,\n",
       "        8.75563365e-01,  1.64894195e-01,  1.06418274e+00,  7.46443309e-02,\n",
       "        5.73070280e-01,  7.37898691e-01,  1.01416128e+00,  1.17131516e+00,\n",
       "        1.11586477e+00,  4.98123496e-01,  6.21454904e-01,  7.85765586e-01,\n",
       "        9.51136358e-01,  7.68591954e-01,  1.15115923e+00,  1.02216715e+00,\n",
       "        1.04715367e+00,  7.89442065e-01,  1.11593916e+00,  1.01633646e+00,\n",
       "        7.14314427e-01,  1.13288870e+00,  7.46364949e-01,  8.76269939e-01,\n",
       "        1.20056811e+00,  1.02268315e+00,  9.33061556e-01,  8.22056499e-01,\n",
       "        6.94168412e-01,  1.10437137e+00, -2.09984551e-01, -1.43498140e-01,\n",
       "       -2.88849302e-01,  3.44689723e-02,  4.31414262e-01, -5.63027328e-01,\n",
       "        1.18027556e+00])"
      ]
     },
     "execution_count": 18,
     "metadata": {},
     "output_type": "execute_result"
    }
   ],
   "source": [
    "from sklearn.neighbors import KNeighborsRegressor\n",
    "from sklearn.linear_model import LinearRegression\n",
    "\n",
    "mod = LinearRegression()\n",
    "mod.fit(X, y)\n",
    "mod.predict(X)[:]"
   ]
  },
  {
   "cell_type": "code",
   "execution_count": 19,
   "id": "indonesian-context",
   "metadata": {},
   "outputs": [],
   "source": [
    "mod = KNeighborsRegressor()\n",
    "mod.fit(X, y)\n",
    "pred = mod.predict(X)"
   ]
  },
  {
   "cell_type": "markdown",
   "id": "beautiful-burns",
   "metadata": {},
   "source": [
    "Maybe we should inspect the results."
   ]
  },
  {
   "cell_type": "code",
   "execution_count": 20,
   "id": "ceramic-static",
   "metadata": {},
   "outputs": [
    {
     "data": {
      "text/plain": [
       "<matplotlib.collections.PathCollection at 0x244d273f8d0>"
      ]
     },
     "execution_count": 20,
     "metadata": {},
     "output_type": "execute_result"
    },
    {
     "data": {
      "image/png": "[encoded data removed]",
      "text/plain": [
       "<Figure size 640x480 with 1 Axes>"
      ]
     },
     "metadata": {},
     "output_type": "display_data"
    }
   ],
   "source": [
    "import matplotlib.pylab as plt\n",
    "\n",
    "plt.scatter(pred, y)"
   ]
  },
  {
   "cell_type": "markdown",
   "id": "undefined-horizon",
   "metadata": {},
   "source": [
    "Let's put everything into a pipeline."
   ]
  },
  {
   "cell_type": "code",
   "execution_count": null,
   "id": "flying-composite",
   "metadata": {},
   "outputs": [],
   "source": [
    "from sklearn.neighbors import KNeighborsRegressor\n",
    "from sklearn.preprocessing import StandardScaler\n",
    "from sklearn.datasets import load_boston\n",
    "from sklearn.pipeline import Pipeline\n",
    "import matplotlib.pylab as plt\n",
    "\n",
    "X, y = load_boston(return_X_y=True)\n",
    "\n",
    "pipe = Pipeline([\n",
    "    (\"scale\", StandardScaler()),\n",
    "    (\"model\", KNeighborsRegressor())\n",
    "])\n",
    "pred = pipe.fit(X, y).predict(X)\n",
    "plt.scatter(pred, y)"
   ]
  },
  {
   "cell_type": "markdown",
   "id": "french-inquiry",
   "metadata": {},
   "source": [
    "Let's also apply some settings!"
   ]
  },
  {
   "cell_type": "code",
   "execution_count": null,
   "id": "outstanding-judgment",
   "metadata": {},
   "outputs": [],
   "source": [
    "from sklearn.neighbors import KNeighborsRegressor\n",
    "from sklearn.preprocessing import StandardScaler\n",
    "from sklearn.datasets import load_boston\n",
    "from sklearn.pipeline import Pipeline\n",
    "import matplotlib.pylab as plt\n",
    "\n",
    "X, y = load_boston(return_X_y=True)\n",
    "\n",
    "# If n_neighbors = 1, we're totally cheating with the chart below.\n",
    "pipe = Pipeline([\n",
    "    (\"scale\", StandardScaler()),\n",
    "    (\"model\", KNeighborsRegressor(n_neighbors=1))\n",
    "])\n",
    "pred = pipe.fit(X, y).predict(X)\n",
    "plt.scatter(pred, y)"
   ]
  },
  {
   "cell_type": "markdown",
   "id": "paperback-banks",
   "metadata": {},
   "source": [
    "Let's now use a gridsearch!"
   ]
  },
  {
   "cell_type": "code",
   "execution_count": null,
   "id": "sealed-abuse",
   "metadata": {},
   "outputs": [],
   "source": [
    "from sklearn.datasets import load_boston\n",
    "from sklearn.neighbors import KNeighborsRegressor\n",
    "from sklearn.preprocessing import StandardScaler\n",
    "from sklearn.pipeline import Pipeline\n",
    "from sklearn.model_selection import GridSearchCV\n",
    "import pandas as pd\n",
    "\n",
    "mod = GridSearchCV(estimator=pipe,\n",
    "                 param_grid={\n",
    "                   'model__n_neighbors': [1, 2, 3, 4, 5, 6, 7, 8, 9, 10]\n",
    "                 },\n",
    "                 cv=3)\n",
    "mod.fit(X, y);"
   ]
  },
  {
   "cell_type": "code",
   "execution_count": null,
   "id": "scheduled-ranking",
   "metadata": {},
   "outputs": [],
   "source": [
    "pd.DataFrame(mod.cv_results_)"
   ]
  },
  {
   "cell_type": "markdown",
   "id": "increased-salem",
   "metadata": {},
   "source": [
    "Finally, lets remember that we should look at the data."
   ]
  },
  {
   "cell_type": "code",
   "execution_count": null,
   "id": "hazardous-income",
   "metadata": {},
   "outputs": [],
   "source": [
    "print(load_boston()['DESCR'])"
   ]
  }
 ],
 "metadata": {
  "kernelspec": {
   "display_name": "Python 3 (ipykernel)",
   "language": "python",
   "name": "python3"
  },
  "language_info": {
   "codemirror_mode": {
    "name": "ipython",
    "version": 3
   },
   "file_extension": ".py",
   "mimetype": "text/x-python",
   "name": "python",
   "nbconvert_exporter": "python",
   "pygments_lexer": "ipython3",
   "version": "3.11.5"
  }
 },
 "nbformat": 4,
 "nbformat_minor": 5
}
